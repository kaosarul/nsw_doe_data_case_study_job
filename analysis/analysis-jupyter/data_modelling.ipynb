{
 "cells": [
  {
   "cell_type": "markdown",
   "metadata": {},
   "source": [
    "#### Data Cleaning"
   ]
  },
  {
   "cell_type": "code",
   "execution_count": 3,
   "metadata": {},
   "outputs": [],
   "source": [
    "import pandas as pd\n",
    "import duckdb\n",
    "from ydata_profiling import ProfileReport\n",
    "import matplotlib.pyplot as plt\n",
    "import seaborn as sns\n",
    "import numpy as np\n",
    "from openpyxl import load_workbook"
   ]
  },
  {
   "cell_type": "code",
   "execution_count": 5,
   "metadata": {},
   "outputs": [],
   "source": [
    "# db connection\n",
    "con = duckdb.connect('../../database/nsw_doe_data_case_study.duckdb',read_only=False)\n"
   ]
  },
  {
   "cell_type": "code",
   "execution_count": null,
   "metadata": {},
   "outputs": [],
   "source": [
    "# Create the tables from CSV files\n",
    "con.execute(\"\"\"\n",
    "CREATE TABLE multi_age_composite_dataset AS \n",
    "SELECT * FROM READ_CSV_AUTO('../../data/2022-multi-age_composite-classes-final.csv');\n",
    "\"\"\")\n",
    "con.execute(\"\"\"\n",
    "CREATE TABLE student_attendance_dataset AS \n",
    "SELECT * FROM READ_CSV_AUTO('../../data/2022-attendance-data-final.csv');\n",
    "\"\"\")\n",
    "# Update column names\n",
    "con.execute(\"\"\"\n",
    "ALTER TABLE multi_age_composite_dataset \n",
    "RENAME COLUMN \"School Code\" TO School_code;\n",
    "\"\"\")\n",
    "con.execute(\"\"\"\n",
    "ALTER TABLE multi_age_composite_dataset \n",
    "RENAME COLUMN \"School Name\" TO School_name;\n",
    "\"\"\")\n",
    "con.execute(\"\"\"\n",
    "ALTER TABLE student_attendance_dataset \n",
    "RENAME COLUMN school_code TO School_code;\n",
    "\"\"\")\n",
    "con.execute(\"\"\"\n",
    "ALTER TABLE student_attendance_dataset \n",
    "RENAME COLUMN school_name TO School_name;\n",
    "\"\"\")"
   ]
  },
  {
   "cell_type": "markdown",
   "metadata": {},
   "source": [
    "#### Update data types of multi_age_composite_unpivoted"
   ]
  },
  {
   "cell_type": "code",
   "execution_count": null,
   "metadata": {},
   "outputs": [],
   "source": [
    "# Create a temporary table with the desired data types\n",
    "columns_to_check = ['PCT_COMPOSITE_CLASSES', 'PCT_COMPOSITE_CLASS_STUDENTS']\n",
    "\n",
    "for col in columns_to_check:\n",
    "    con.execute(f\"\"\"\n",
    "    UPDATE multi_age_composite_unpivoted\n",
    "    SET {col} = NULL\n",
    "    WHERE {col} = 'NULL';\n",
    "    \"\"\")\n",
    "con.execute(\"DROP TABLE IF EXISTS temp_table;\")\n",
    "con.execute(\"\"\"\n",
    "CREATE TABLE temp_table (\n",
    "    School_code INT,\n",
    "    School_name VARCHAR(255),\n",
    "    Year INT,\n",
    "    COMPOSITE_CLASS_COUNT INT,\n",
    "    COMPOSITE_CLASS_STUDENTS INT,\n",
    "    PCT_COMPOSITE_CLASSES FLOAT,\n",
    "    PCT_COMPOSITE_CLASS_STUDENTS FLOAT\n",
    ");\n",
    "\"\"\")\n",
    "# temporary table\n",
    "con.execute(\"\"\"\n",
    "INSERT INTO temp_table \n",
    "SELECT \n",
    "    CAST(School_code AS INT),\n",
    "    CAST(School_name AS VARCHAR(255)),\n",
    "    CAST(Year AS INT),\n",
    "    CAST(COMPOSITE_CLASS_COUNT AS INT),\n",
    "    CAST(COMPOSITE_CLASS_STUDENTS AS INT),\n",
    "    CAST(PCT_COMPOSITE_CLASSES AS FLOAT),\n",
    "    CAST(PCT_COMPOSITE_CLASS_STUDENTS AS FLOAT)\n",
    "FROM multi_age_composite_unpivoted;\n",
    "\"\"\")\n",
    "# Drop the table\n",
    "con.execute(\"\"\"\n",
    "DROP TABLE multi_age_composite_unpivoted;\n",
    "\"\"\")\n",
    "# Rename the temporary table\n",
    "con.execute(\"\"\"\n",
    "ALTER TABLE temp_table RENAME TO multi_age_composite_unpivoted;\n",
    "\"\"\")\n",
    "# Optional: Commit the changes and close the connection\n",
    "con.commit()"
   ]
  },
  {
   "cell_type": "markdown",
   "metadata": {},
   "source": [
    "##### Update datatypes of student_attendance_unpivoted"
   ]
  },
  {
   "cell_type": "code",
   "execution_count": null,
   "metadata": {},
   "outputs": [],
   "source": [
    "# Create a temporary table\n",
    "con.execute(\"DROP TABLE IF EXISTS temp_attendance_table;\")\n",
    "con.execute(\"\"\"\n",
    "CREATE TABLE temp_attendance_table (\n",
    "    School_Code INT,\n",
    "    School_Name VARCHAR(255),\n",
    "    Year INT,\n",
    "    Attendance_pct FLOAT\n",
    ");\n",
    "\"\"\")\n",
    "# Copy data \n",
    "con.execute(\"\"\"\n",
    "INSERT INTO temp_attendance_table \n",
    "SELECT \n",
    "    CAST(School_Code AS INT),\n",
    "    CAST(School_Name AS VARCHAR(255)),\n",
    "    CAST(Year AS INT),\n",
    "    CASE \n",
    "        WHEN Attendance_pct IN ('sp', 'na', 'NULL') THEN NULL\n",
    "        ELSE CAST(Attendance_pct AS FLOAT) \n",
    "    END\n",
    "FROM student_attendance_unpivoted;\n",
    "\"\"\")\n",
    "# Drop the original table\n",
    "con.execute(\"\"\"\n",
    "DROP TABLE student_attendance_unpivoted;\n",
    "\"\"\")\n",
    "# Rename the temporary table \n",
    "con.execute(\"\"\"\n",
    "ALTER TABLE temp_attendance_table RENAME TO student_attendance_unpivoted;\n",
    "\"\"\")\n",
    "con.commit()"
   ]
  },
  {
   "cell_type": "markdown",
   "metadata": {},
   "source": [
    "#### Unpivoting multi_age_composite_dataset"
   ]
  },
  {
   "cell_type": "code",
   "execution_count": null,
   "metadata": {},
   "outputs": [],
   "source": [
    "# Define constants\n",
    "years = ['14', '15', '16', '17', '18', '19', '21', '22']\n",
    "measures = ['COMPOSITE_CLASS_COUNT', 'COMPOSITE_CLASS_STUDENTS', 'PCT_COMPOSITE_CLASSES', 'PCT_COMPOSITE_CLASS_STUDENTS']\n",
    "# Flatten the table\n",
    "flattened_queries = []\n",
    "for year in years:\n",
    "    year_cols = [f\"{measure}_{year} AS {measure}\" for measure in measures]\n",
    "    query = f\"\"\"\n",
    "    SELECT \n",
    "        School_code,\n",
    "        School_Name,\n",
    "        '20{year}' AS Year,\n",
    "        {', '.join(year_cols)}\n",
    "    FROM multi_age_composite_dataset\n",
    "    \"\"\"\n",
    "    flattened_queries.append(query)\n",
    "final_flattened_query = \"\\nUNION ALL\\n\".join(flattened_queries)\n",
    "con.execute(f\"CREATE TABLE multi_age_composite_unpivoted AS {final_flattened_query}\")"
   ]
  },
  {
   "cell_type": "markdown",
   "metadata": {},
   "source": [
    "#### Unpivoting student_attendance_dataset"
   ]
  },
  {
   "cell_type": "code",
   "execution_count": null,
   "metadata": {},
   "outputs": [],
   "source": [
    "columns = con.execute(\"PRAGMA table_info(student_attendance_dataset)\").fetchall()\n",
    "year_columns = [str(row[1]) for row in columns if row[1].isdigit()]\n",
    "sql_parts = []\n",
    "for year in year_columns:\n",
    "    sql_part = f\"\"\"\n",
    "    SELECT \n",
    "        school_code AS School_Code,\n",
    "        school_name AS School_Name,\n",
    "        '{year}' AS Year,\n",
    "        \"{year}\" AS Attendance_pct\n",
    "    FROM student_attendance_dataset\n",
    "    \"\"\"\n",
    "    sql_parts.append(sql_part)\n",
    "sql_command = \"\\nUNION ALL\\n\".join(sql_parts)\n",
    "con.execute(f\"CREATE TABLE student_attendance_unpivoted AS {sql_command}\")\n"
   ]
  },
  {
   "cell_type": "code",
   "execution_count": 10,
   "metadata": {},
   "outputs": [],
   "source": [
    "con.close()"
   ]
  },
  {
   "cell_type": "code",
   "execution_count": null,
   "metadata": {},
   "outputs": [],
   "source": [
    "query = \"SELECT * FROM student_attendance_unpivoted\"\n",
    "df = con.execute(query).fetchdf()  # Use fetchdf() to get a DataFrame\n",
    "# Save the DataFrame to Excel\n",
    "excel_path = \"student_attendance_unpivoted.xlsx\"\n",
    "df.to_excel(excel_path, index=False, engine='openpyxl')"
   ]
  },
  {
   "cell_type": "code",
   "execution_count": 14,
   "metadata": {},
   "outputs": [],
   "source": []
  },
  {
   "cell_type": "code",
   "execution_count": 9,
   "metadata": {},
   "outputs": [
    {
     "data": {
      "text/plain": [
       "<duckdb.DuckDBPyConnection at 0x7f026e607430>"
      ]
     },
     "execution_count": 9,
     "metadata": {},
     "output_type": "execute_result"
    }
   ],
   "source": []
  },
  {
   "cell_type": "markdown",
   "metadata": {},
   "source": [
    "#### Missing Value Statistics"
   ]
  },
  {
   "cell_type": "code",
   "execution_count": null,
   "metadata": {},
   "outputs": [],
   "source": [
    "# Step 1: Connect to the database\n",
    "con.close()\n",
    "database_path = '../../database/nsw_doe_data_case_study.duckdb'\n",
    "database_connection = duckdb.connect(database_path, read_only=False)\n",
    "# Step 2: Define a function that calculates and shows missing data\n",
    "def get_missing_data_info(data_frame):\n",
    "    # Count how many missing values there are\n",
    "    missing_count = data_frame.isnull().sum()\n",
    "        # Find out the percentage of missing values\n",
    "    missing_percentage = (missing_count / len(data_frame)) * 100\n",
    "        # Put our results in a table and return it\n",
    "    result_table = pd.DataFrame({\n",
    "        'Missing Count': missing_count,\n",
    "        'Missing %': missing_percentage\n",
    "    })\n",
    "    # Sorting the results to make it more readable\n",
    "    result_table = result_table.sort_values(by='Missing %', ascending=False)\n",
    "    return result_table\n",
    "# Step 3: Get data from the database\n",
    "data_from_public_schools = database_connection.execute(\"SELECT * FROM public_school_nsw_master_dataset\").fetchdf()\n",
    "data_from_multi_age = database_connection.execute(\"SELECT * FROM multi_age_composite_unpivoted\").fetchdf()\n",
    "data_from_attendance = database_connection.execute(\"SELECT * FROM student_attendance_unpivoted\").fetchdf()\n",
    "# Step 4: Use our function on the data and print the results\n",
    "print(\"Info on Missing Data in public_school_nsw_master_dataset\")\n",
    "print(get_missing_data_info(data_from_public_schools))\n",
    "print(\"------\\n\")\n",
    "print(\"Info on Missing Data in multi_age_composite_unpivoted\")\n",
    "print(get_missing_data_info(data_from_multi_age))\n",
    "print(\"------\\n\")\n",
    "print(\"Info on Missing Data in student_attendance_unpivoted\")\n",
    "print(get_missing_data_info(data_from_attendance))\n",
    "print(\"------\\n\")\n"
   ]
  },
  {
   "cell_type": "markdown",
   "metadata": {},
   "source": [
    "##### Missing value imputation"
   ]
  },
  {
   "cell_type": "code",
   "execution_count": null,
   "metadata": {},
   "outputs": [],
   "source": [
    "con = duckdb.connect('../../database/nsw_doe_data_case_study.duckdb',read_only=False)\n",
    "attendance_data = con.execute(\"SELECT ATTENDANCE_PCT FROM STUDENT_ATTENDANCE_UNPIVOTED\").fetchdf()\n",
    "# Convert 'na' and other non-numeric entries to NaN for visualization\n",
    "attendance_data['ATTENDANCE_PCT'] = pd.to_numeric(attendance_data['ATTENDANCE_PCT'], errors='coerce')\n",
    "# Plot histogram for ATTENDANCE_PCT\n",
    "plt.figure(figsize=(10, 5))\n",
    "plt.hist(attendance_data['ATTENDANCE_PCT'].dropna(), bins=30, edgecolor='black', alpha=0.7)\n",
    "plt.title('Distribution of ATTENDANCE_PCT')\n",
    "plt.xlabel('ATTENDANCE_PCT')\n",
    "plt.ylabel('Frequency')\n",
    "plt.grid(True, which='both', linestyle='--', linewidth=0.5)\n",
    "plt.show()\n",
    "# Plotting box plot for ATTENDANCE_PCT\n",
    "plt.figure(figsize=(10, 5))\n",
    "sns.boxplot(x=attendance_data['ATTENDANCE_PCT'])\n",
    "plt.title('Box Plot of ATTENDANCE_PCT')\n",
    "plt.xlabel('ATTENDANCE_PCT')\n",
    "plt.grid(True, which='both', linestyle='--', linewidth=0.5)\n",
    "plt.show()"
   ]
  },
  {
   "cell_type": "code",
   "execution_count": null,
   "metadata": {},
   "outputs": [],
   "source": [
    "# Iterate through the DataFrame and update NULL values in the database\n",
    "for index, row in attendance_data.iterrows():\n",
    "    if pd.isnull(row['ATTENDANCE_PCT']):\n",
    "        con.execute(f\"UPDATE STUDENT_ATTENDANCE_UNPIVOTED SET ATTENDANCE_PCT = {median_value} WHERE School_Code = {row['School_Code']} AND Year = {row['Year']}\")\n",
    "# Commit the changes and close the connection\n",
    "con.commit()\n",
    "con.close()\n",
    "# Convert any 'NULL' values to numpy's NaN for compatibility with pandas\n",
    "attendance_data.replace('NULL', np.nan, inplace=True)\n",
    "# Impute the missing values with the median\n",
    "median_value = attendance_data['ATTENDANCE_PCT'].median()\n",
    "attendance_data['ATTENDANCE_PCT'].fillna(median_value, inplace=True)\n",
    "# Check if there are still any missing values left\n",
    "missing_values = attendance_data['ATTENDANCE_PCT'].isnull().sum()\n",
    "print(f\"There are {missing_values} missing values in the ATTENDANCE_PCT column.\")"
   ]
  },
  {
   "cell_type": "code",
   "execution_count": null,
   "metadata": {},
   "outputs": [],
   "source": [
    "# Fetch data from the MULTI_AGE_COMPOSITE_UNPIVOTED table excluding the rows with SCHOOL_NAME 'NSW'\n",
    "composite_data = con.execute(\"SELECT COMPOSITE_CLASS_COUNT, COMPOSITE_CLASS_STUDENTS, PCT_COMPOSITE_CLASSES, PCT_COMPOSITE_CLASS_STUDENTS FROM MULTI_AGE_COMPOSITE_UNPIVOTED WHERE SCHOOL_NAME != 'NSW'\").fetchdf()\n",
    "# Ensure the data is numeric, replacing errors with NaN\n",
    "for col in composite_data.columns:\n",
    "    composite_data[col] = pd.to_numeric(composite_data[col], errors='coerce')\n",
    "# Create a larger figure to hold the subplots\n",
    "plt.figure(figsize=(15, 10))\n",
    "# Histogram for COMPOSITE_CLASS_COUNT\n",
    "plt.subplot(2, 4, 1)\n",
    "plt.hist(composite_data['COMPOSITE_CLASS_COUNT'].dropna(), bins=30, edgecolor='black', alpha=0.7)\n",
    "plt.xlabel('Composite Class Count')\n",
    "plt.ylabel('Frequency')\n",
    "plt.grid(True, which='both', linestyle='--', linewidth=0.5)\n",
    "# Box plot for COMPOSITE_CLASS_COUNT\n",
    "plt.subplot(2, 4, 2)\n",
    "sns.boxplot(x=composite_data['COMPOSITE_CLASS_COUNT'])\n",
    "plt.xlabel('Composite Class Count')\n",
    "plt.grid(True, which='both', linestyle='--', linewidth=0.5)\n",
    "# Histogram for COMPOSITE_CLASS_STUDENTS\n",
    "plt.subplot(2, 4, 3)\n",
    "plt.hist(composite_data['COMPOSITE_CLASS_STUDENTS'].dropna(), bins=30, edgecolor='black', alpha=0.7)\n",
    "plt.xlabel('Composite Class Students')\n",
    "plt.grid(True, which='both', linestyle='--', linewidth=0.5)\n",
    "# Box plot for COMPOSITE_CLASS_STUDENTS\n",
    "plt.subplot(2, 4, 4)\n",
    "sns.boxplot(x=composite_data['COMPOSITE_CLASS_STUDENTS'])\n",
    "plt.xlabel('Composite Class Students')\n",
    "plt.grid(True, which='both', linestyle='--', linewidth=0.5)\n",
    "# Histogram for PCT_COMPOSITE_CLASSES\n",
    "plt.subplot(2, 4, 5)\n",
    "plt.hist(composite_data['PCT_COMPOSITE_CLASSES'].dropna(), bins=30, edgecolor='black', alpha=0.7)\n",
    "plt.xlabel('Percent Composite Classes')\n",
    "plt.grid(True, which='both', linestyle='--', linewidth=0.5)\n",
    "# Box plot for PCT_COMPOSITE_CLASSES\n",
    "plt.subplot(2, 4, 6)\n",
    "sns.boxplot(x=composite_data['PCT_COMPOSITE_CLASSES'])\n",
    "plt.xlabel('Percent Composite Classes')\n",
    "plt.grid(True, which='both', linestyle='--', linewidth=0.5)\n",
    "# Histogram for PCT_COMPOSITE_CLASS_STUDENTS\n",
    "plt.subplot(2, 4, 7)\n",
    "plt.hist(composite_data['PCT_COMPOSITE_CLASS_STUDENTS'].dropna(), bins=30, edgecolor='black', alpha=0.7)\n",
    "plt.xlabel('Percent Composite Class Students')\n",
    "plt.grid(True, which='both', linestyle='--', linewidth=0.5)\n",
    "# Box plot for PCT_COMPOSITE_CLASS_STUDENTS\n",
    "plt.subplot(2, 4, 8)\n",
    "sns.boxplot(x=composite_data['PCT_COMPOSITE_CLASS_STUDENTS'])\n",
    "plt.xlabel('Percent Composite Class Students')\n",
    "plt.grid(True, which='both', linestyle='--', linewidth=0.5)\n",
    "# Adjust layout\n",
    "plt.tight_layout()\n",
    "plt.show()"
   ]
  },
  {
   "cell_type": "code",
   "execution_count": null,
   "metadata": {},
   "outputs": [],
   "source": [
    "# Calculate percentage of missing values for each column\n",
    "missing_percentage = (composite_data.isnull().sum() / len(composite_data)) * 100\n",
    "# Print header\n",
    "print(\"Percentage of Missing Values of MULTI_AGE_COMPOSITE_UNPIVOTED :\\n\" + \"-\"*50)\n",
    "print(missing_percentage)"
   ]
  },
  {
   "cell_type": "code",
   "execution_count": null,
   "metadata": {},
   "outputs": [],
   "source": [
    "# Compute the mean for PCT_COMPOSITE_CLASSES and PCT_COMPOSITE_CLASS_STUDENTS\n",
    "mean_PCT_COMPOSITE_CLASSES = composite_data['PCT_COMPOSITE_CLASSES'].mean()\n",
    "mean_PCT_COMPOSITE_CLASS_STUDENTS = composite_data['PCT_COMPOSITE_CLASS_STUDENTS'].mean()\n",
    "# Impute missing values with the mean\n",
    "composite_data['PCT_COMPOSITE_CLASSES'].fillna(mean_PCT_COMPOSITE_CLASSES, inplace=True)\n",
    "composite_data['PCT_COMPOSITE_CLASS_STUDENTS'].fillna(mean_PCT_COMPOSITE_CLASS_STUDENTS, inplace=True)"
   ]
  },
  {
   "cell_type": "markdown",
   "metadata": {},
   "source": [
    "#### Handling outliers"
   ]
  },
  {
   "cell_type": "code",
   "execution_count": null,
   "metadata": {},
   "outputs": [],
   "source": [
    "# Fetching data from PUBLIC_SCHOOL_NSW_MASTER_DATASET\n",
    "data = con.execute(\"SELECT * FROM PUBLIC_SCHOOL_NSW_MASTER_DATASET\").fetchdf()\n",
    "# Function to calculate percentage of outliers using IQR\n",
    "def calculate_outliers_percentage(column):\n",
    "    Q1 = column.quantile(0.25)\n",
    "    Q3 = column.quantile(0.75)\n",
    "    IQR = Q3 - Q1\n",
    "    lower_bound = Q1 - 1.5 * IQR\n",
    "    upper_bound = Q3 + 1.5 * IQR\n",
    "    return ((column < lower_bound) | (column > upper_bound)).mean() * 100\n",
    "# Select numeric columns to measure outliers\n",
    "numeric_columns = data.select_dtypes(include=[np.number]).columns.tolist()\n",
    "outliers_percentage = {col: calculate_outliers_percentage(data[col]) for col in numeric_columns}\n",
    "print(\"Percentage of outliers in PUBLIC_SCHOOL_NSW_MASTER_DATASET:\")\n",
    "for column, percentage in outliers_percentage.items():\n",
    "    print(f\"{column}: {percentage:.2f}%\")"
   ]
  },
  {
   "cell_type": "code",
   "execution_count": null,
   "metadata": {},
   "outputs": [],
   "source": [
    "attendance_data = con.execute(\"SELECT ATTENDANCE_PCT FROM STUDENT_ATTENDANCE_UNPIVOTED WHERE ATTENDANCE_PCT IS NOT NULL\").fetchdf()\n",
    "# Convert to numeric\n",
    "attendance_data['ATTENDANCE_PCT'] = pd.to_numeric(attendance_data['ATTENDANCE_PCT'], errors='coerce')\n",
    "# Calculate Q1, Q3 and IQR\n",
    "Q1 = attendance_data['ATTENDANCE_PCT'].quantile(0.25)\n",
    "Q3 = attendance_data['ATTENDANCE_PCT'].quantile(0.75)\n",
    "IQR = Q3 - Q1\n",
    "# Defining bounds\n",
    "lower_bound = Q1 - 1.5 * IQR\n",
    "upper_bound = Q3 + 1.5 * IQR\n",
    "# Determine the number of outliers\n",
    "outliers = attendance_data[(attendance_data['ATTENDANCE_PCT'] < lower_bound) | (attendance_data['ATTENDANCE_PCT'] > upper_bound)]\n",
    "percentage_outliers = (len(outliers) / len(attendance_data)) * 100\n",
    "print(f\"Percentage of outliers in ATTENDANCE_PCT: {percentage_outliers:.2f}%\")\n",
    "# As seen in your data, 5.57% is not an insignificant percentage. \n",
    "# Removing this many data points can result in a significant loss of data."
   ]
  },
  {
   "cell_type": "code",
   "execution_count": null,
   "metadata": {},
   "outputs": [],
   "source": [
    "print(\"Percentage of outliers of the MULTI_AGE_COMPOSITE_UNPIVOTED table:\")\n",
    "print(\"-\" * 60)  # This will print a line for separation\n",
    "for column, percentage in outliers_percentage.items():\n",
    "    print(f\"{column}: {percentage:.2f}%\")\n",
    "# From the given data, outliers constitute around 2% for COMPOSITE_CLASS_COUNT and COMPOSITE_CLASS_STUDENTS, \n",
    "# while they are 0% for the other two columns. \n",
    "# A small percentage might not always necessitate removal."
   ]
  },
  {
   "cell_type": "code",
   "execution_count": null,
   "metadata": {},
   "outputs": [],
   "source": [
    "# Fetch data into a pandas DataFrame\n",
    "query = \"SELECT * FROM PUBLIC_SCHOOL_NSW_MASTER_DATASET\"\n",
    "df = con.execute(query).fetchdf()  # Use fetchdf() to get a DataFrame\n",
    "\n",
    "# Save the DataFrame to Excel\n",
    "excel_path = \"PUBLIC_SCHOOL_NSW_MASTER_DATASET.xlsx\"\n",
    "df.to_excel(excel_path, index=False, engine='openpyxl')\n"
   ]
  }
 ],
 "metadata": {
  "kernelspec": {
   "display_name": "Python 3",
   "language": "python",
   "name": "python3"
  },
  "language_info": {
   "codemirror_mode": {
    "name": "ipython",
    "version": 3
   },
   "file_extension": ".py",
   "mimetype": "text/x-python",
   "name": "python",
   "nbconvert_exporter": "python",
   "pygments_lexer": "ipython3",
   "version": "3.11.4"
  },
  "orig_nbformat": 4
 },
 "nbformat": 4,
 "nbformat_minor": 2
}
